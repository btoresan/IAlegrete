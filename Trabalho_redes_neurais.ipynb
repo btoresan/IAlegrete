{
  "nbformat": 4,
  "nbformat_minor": 0,
  "metadata": {
    "colab": {
      "provenance": []
    },
    "kernelspec": {
      "name": "python3",
      "display_name": "Python 3"
    },
    "language_info": {
      "name": "python"
    }
  },
  "cells": [
    {
      "cell_type": "markdown",
      "source": [
        "\n",
        "Imports e definição do dataset."
      ],
      "metadata": {
        "id": "8g5GN3EpDn4b"
      }
    },
    {
      "cell_type": "code",
      "execution_count": 2,
      "metadata": {
        "id": "gpxhsZya71hk"
      },
      "outputs": [],
      "source": [
        "import tensorflow as tf\n",
        "from tensorflow import keras\n",
        "import matplotlib.pyplot as plt"
      ]
    },
    {
      "cell_type": "markdown",
      "source": [
        "Carregamento do dataset cifar-10"
      ],
      "metadata": {
        "id": "qQhkJUZODtd1"
      }
    },
    {
      "cell_type": "code",
      "source": [
        "# Carregar o conjunto de dados CIFAR-10\n",
        "cifar10 = keras.datasets.cifar10\n",
        "#Carrega duas tuplas, representando os dados de treinamento e de teste.\n",
        "#Cada tupla tem as imagens e os respectivos rótulos\n",
        "(train_images, train_labels), (test_images, test_labels) = cifar10.load_data()\n",
        "num_classes = 10"
      ],
      "metadata": {
        "id": "vQQvrT5v785X"
      },
      "execution_count": null,
      "outputs": []
    },
    {
      "cell_type": "markdown",
      "source": [
        "O código abaixo mostra as 10 primeiras imagens de treino e teste do cifar-10"
      ],
      "metadata": {
        "id": "MwHzFJajDxZt"
      }
    },
    {
      "cell_type": "code",
      "source": [
        "# Defina as classes do CIFAR-10\n",
        "class_names = ['Avião', 'Automóvel', 'Pássaro', 'Gato', 'Cervo',\n",
        "               'Cachorro', 'Sapo', 'Cavalo', 'Navio', 'Caminhão']\n",
        "\n",
        "# Crie um dicionário para mapear as classes para as imagens correspondentes\n",
        "class_to_image = {}\n",
        "for i in range(10):\n",
        "    index = (test_labels == i).nonzero()[0][0]  # Encontre o primeiro índice da classe\n",
        "    class_to_image[i] = test_images[index]\n",
        "\n",
        "# Mostre uma imagem de cada classe\n",
        "plt.figure(figsize=(10, 5))\n",
        "for i in range(10):\n",
        "    plt.subplot(2, 5, i + 1)\n",
        "    plt.xticks([])  # Remova os rótulos do eixo x\n",
        "    plt.yticks([])  # Remova os rótulos do eixo y\n",
        "    plt.imshow(class_to_image[i])\n",
        "    plt.xlabel(class_names[i])\n",
        "\n",
        "plt.tight_layout()\n",
        "plt.show()"
      ],
      "metadata": {
        "id": "wJipJNqX9zsJ"
      },
      "execution_count": null,
      "outputs": []
    },
    {
      "cell_type": "markdown",
      "source": [
        "Abaixo, convertemos os rótulos escalares (números de 0 a 9) para one-hot encoding.\n",
        "\n",
        "Não é necessário realizar este passo, caso seja utilizada a função de custo esparse_categorical_cross_entropy"
      ],
      "metadata": {
        "id": "hZxLXNIaD4lq"
      }
    },
    {
      "cell_type": "code",
      "source": [
        "# Converter para codificação one-hot dos labels\n",
        "train_labels = tf.keras.utils.to_categorical(train_labels, num_classes=num_classes)\n",
        "test_labels = tf.keras.utils.to_categorical(test_labels, num_classes=num_classes)\n",
        "#Não é necessário se utilizar como função de custo esparse_categorical_cross_entropy"
      ],
      "metadata": {
        "id": "0h1CJgPJ9MTt"
      },
      "execution_count": null,
      "outputs": []
    },
    {
      "cell_type": "markdown",
      "source": [
        "Função que retorna uma rede neural para o cifar-10"
      ],
      "metadata": {
        "id": "nymnOpRMETAu"
      }
    },
    {
      "cell_type": "code",
      "source": [
        "# Crie o modelo de rede neural convolucional simples\n",
        "def get_cifar10_network():\n",
        "    model = keras.Sequential([\n",
        "        tf.keras.layers.Conv2D(32, (3, 3), activation='relu', input_shape=(32, 32, 3)),#(32, 32, 3) porque as imagens são 32X32 e RGB, portanto, tendo 3 canais de cor\n",
        "        tf.keras.layers.MaxPooling2D((2, 2)),\n",
        "        tf.keras.layers.Flatten(),\n",
        "        tf.keras.layers.Dense(64, activation='relu'),\n",
        "        tf.keras.layers.Dense(num_classes, activation='softmax')  # 10 classes de saída\n",
        "    ])\n",
        "\n",
        "    # Compile o modelo\n",
        "    model.compile(optimizer='adam',\n",
        "                  loss='categorical_crossentropy',#pode ser substituída pela esparse_categorical_cross_entropy\n",
        "                  metrics=['accuracy'])\n",
        "\n",
        "    model.summary()\n",
        "\n",
        "    return model"
      ],
      "metadata": {
        "id": "nPrIRBmT8XiN"
      },
      "execution_count": null,
      "outputs": []
    },
    {
      "cell_type": "markdown",
      "source": [
        "Trecho para treinar e avaliar a rede neural.\n",
        "O treino é realizado com os dados de treino e a avaliação do modelo é realizada nos dados de teste."
      ],
      "metadata": {
        "id": "wjmscwcQErIx"
      }
    },
    {
      "cell_type": "code",
      "source": [
        "# Treine o modelo\n",
        "model = get_cifar10_network()\n",
        "model.fit(train_images, train_labels, epochs=10)\n",
        "\n",
        "# Avalie o modelo no conjunto de teste\n",
        "test_loss, test_accuracy = model.evaluate(test_images, test_labels)\n",
        "print(f'Acurácia no conjunto de teste: {test_accuracy * 100:.2f}%')"
      ],
      "metadata": {
        "id": "3uN8v8_m8cvR"
      },
      "execution_count": null,
      "outputs": []
    },
    {
      "cell_type": "markdown",
      "source": [
        "Na célula abaixo, adicione o código para carregar os demais datasets"
      ],
      "metadata": {
        "id": "Vc5-m031HdY0"
      }
    },
    {
      "cell_type": "code",
      "source": [
        "# Carregar o conjunto de dados MNIST\n",
        "mnist = keras.datasets.mnist\n",
        "(mnist_train_images, mnist_train_labels), (mnist_test_images, mnist_test_labels) = mnist.load_data()\n",
        "mnist_num_classes = 10\n",
        "\n",
        "# Carregar o conjunto de dados Fashion MNIST\n",
        "fashion_mnist = keras.datasets.fashion_mnist\n",
        "(fmnist_train_images, fmnist_train_labels), (fmnist_test_images, fmnist_test_labels) = fashion_mnist.load_data()\n",
        "fashion_mnist_num_classes = 10\n",
        "\n",
        "# Carregar o conjunto de dados CIFAR-10\n",
        "cifar10 = keras.datasets.cifar10\n",
        "(cifar10_train_images, cifar10_train_labels), (cifar10_test_images, cifar10_test_labels) = cifar10.load_data()\n",
        "cifar10_num_classes = 10\n",
        "\n",
        "# Carregar o conjunto de dados CIFAR-100\n",
        "cifar100 = keras.datasets.cifar100\n",
        "(cifar100_train_images, cifar100_train_labels), (cifar100_test_images, cifar100_test_labels) = cifar100.load_data(label_mode='fine')\n",
        "cifar100_num_classes = 100"
      ],
      "metadata": {
        "id": "dZ6iW7spLOsb"
      },
      "execution_count": null,
      "outputs": []
    },
    {
      "cell_type": "markdown",
      "source": [
        "Tarefa\n",
        "Escreva código para executar redes neurais nos seguintes datasets:\n",
        "\n",
        "MNIST (pode aproveitar o codigo existente)\n",
        "Fashion MNIST\n",
        "CIFAR-10\n",
        "CIFAR-100\n",
        "Cada execução deve ser por 10 épocas.\n",
        "\n",
        "Você deve preencher as funções a seguir para retornarem a rede neural com a melhor configuração que você conseguiu para cada dataset. O notebook deve ser entregue com a rede neural que obteve a melhor performance em cada conjunto de dados.\n",
        "\n",
        "IMPORTANTE: as funções não devem TREINAR nem AVALIAR as redes neurais, apenas instanciá-las e retorná-las.\n",
        "\n",
        "Ao final, preencha o dict results com o desempenho encontrado em cada execução."
      ],
      "metadata": {
        "id": "bKkBlEy1ExHj"
      }
    },
    {
      "cell_type": "code",
      "source": [
        "def get_fashion_mnist_network():\n",
        "    model = keras.Sequential([\n",
        "        tf.keras.layers.Conv2D(32, (3, 3), activation='relu', input_shape=(28, 28, 1)),\n",
        "        tf.keras.layers.MaxPooling2D((2, 2)),\n",
        "\n",
        "        tf.keras.layers.Conv2D(64, (3, 3), activation='relu', input_shape=(28, 28, 1)),\n",
        "        tf.keras.layers.MaxPooling2D((2, 2)),\n",
        "\n",
        "        tf.keras.layers.Flatten(),\n",
        "        tf.keras.layers.Dense(512, activation='relu'),\n",
        "        tf.keras.layers.Dense(fashion_mnist_num_classes, activation='softmax')\n",
        "    ])\n",
        "\n",
        "    model.compile(optimizer='adam', loss='sparse_categorical_crossentropy', metrics=['accuracy'])\n",
        "    model.summary()\n",
        "\n",
        "    return model\n",
        "\n",
        "def get_mnist_network():\n",
        "    model = keras.Sequential([\n",
        "        tf.keras.layers.Conv2D(32, (3, 3), activation='relu', input_shape=(28, 28, 1)),\n",
        "        tf.keras.layers.MaxPooling2D((2, 2)),\n",
        "\n",
        "        tf.keras.layers.Flatten(),\n",
        "        tf.keras.layers.Dense(56, activation='relu'),\n",
        "        tf.keras.layers.Dense(28, activation='relu'),\n",
        "\n",
        "        tf.keras.layers.Dense(mnist_num_classes, activation='softmax')\n",
        "    ])\n",
        "\n",
        "    model.compile(optimizer='adam', loss='sparse_categorical_crossentropy', metrics=['accuracy'])\n",
        "    model.summary()\n",
        "\n",
        "    return model\n",
        "\n",
        "\n",
        "def get_cifar100_network():\n",
        "    model = keras.Sequential([\n",
        "        tf.keras.layers.Conv2D(32, (3, 3), activation='relu', input_shape=(32, 32, 3)),\n",
        "        tf.keras.layers.Conv2D(32, (3, 3), activation='relu'),\n",
        "        tf.keras.layers.MaxPooling2D((2, 2)),\n",
        "\n",
        "        tf.keras.layers.Conv2D(64, (3, 3), activation='relu'),\n",
        "        tf.keras.layers.Conv2D(64, (3, 3), activation='relu'),\n",
        "        tf.keras.layers.MaxPooling2D((2, 2)),\n",
        "\n",
        "        tf.keras.layers.Conv2D(128, (3, 3), activation='relu'),\n",
        "        tf.keras.layers.MaxPooling2D((2, 2)),\n",
        "\n",
        "        tf.keras.layers.Flatten(),\n",
        "        tf.keras.layers.Dense(512, activation='relu'),\n",
        "\n",
        "        tf.keras.layers.Dense(cifar100_num_classes, activation='softmax')\n",
        "    ])\n",
        "\n",
        "    model.compile(optimizer='adam', loss='sparse_categorical_crossentropy', metrics=['accuracy'])\n",
        "    model.summary()\n",
        "\n",
        "    return model\n",
        "\n",
        "def get_cifar10_network():\n",
        "    model = keras.Sequential([\n",
        "        tf.keras.layers.Conv2D(32, (3, 3), activation='relu', input_shape=(32, 32, 3)),\n",
        "        tf.keras.layers.MaxPooling2D((2, 2)),\n",
        "\n",
        "        tf.keras.layers.Conv2D(64, (3, 3), activation='relu'),\n",
        "        tf.keras.layers.MaxPooling2D((2, 2)),\n",
        "\n",
        "        tf.keras.layers.Conv2D(128, (3, 3), activation='relu'),\n",
        "        tf.keras.layers.MaxPooling2D((2, 2)),\n",
        "\n",
        "        tf.keras.layers.Flatten(),\n",
        "        tf.keras.layers.Dense(512, activation='relu'),\n",
        "\n",
        "        tf.keras.layers.Dense(cifar10_num_classes, activation='softmax')\n",
        "    ])\n",
        "\n",
        "    model.compile(optimizer='adam', loss='sparse_categorical_crossentropy', metrics=['accuracy'])\n",
        "    model.summary()\n",
        "\n",
        "    return model"
      ],
      "metadata": {
        "id": "gN14IpXnFfCQ"
      },
      "execution_count": 4,
      "outputs": []
    },
    {
      "cell_type": "markdown",
      "source": [
        "Preencha o dict abaixo substituindo os None com a acuracia final (acc) e o tempo de treinamento (time) encontrado no seu experimento pra cada dataset"
      ],
      "metadata": {
        "id": "iERVafMPF2Tn"
      }
    },
    {
      "cell_type": "code",
      "source": [
        "results = {\n",
        "    \"mnist\": {\"time\": 355.52, \"acc\": 98.07},\n",
        "    \"fashion_mnist\": {\"time\": 625.07, \"acc\": 89.13},\n",
        "    \"cifar10\": {\"time\": 698.77, \"acc\": 66.97},\n",
        "    \"cifar100\": {\"time\": 1540.27, \"acc\": 27.28},\n",
        "}"
      ],
      "metadata": {
        "id": "kEUK1xk6Fk48"
      },
      "execution_count": null,
      "outputs": []
    }
  ]
}